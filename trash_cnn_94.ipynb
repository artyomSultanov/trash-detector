{
  "nbformat": 4,
  "nbformat_minor": 0,
  "metadata": {
    "colab": {
      "name": "vgg16_trash_0_85_.ipynb",
      "provenance": [],
      "private_outputs": true,
      "collapsed_sections": [],
      "toc_visible": true
    },
    "kernelspec": {
      "name": "python3",
      "display_name": "Python 3"
    },
    "accelerator": "GPU"
  },
  "cells": [
    {
      "cell_type": "code",
      "metadata": {
        "id": "96A85nvM-_rI",
        "colab_type": "code",
        "colab": {}
      },
      "source": [
        "from tensorflow.python.keras.preprocessing.image import ImageDataGenerator\n",
        "from tensorflow.python.keras.models import Sequential\n",
        "from tensorflow.python.keras.layers import Activation, Dropout, Flatten, Dense\n",
        "from tensorflow.python.keras.applications.vgg16 import VGG16\n",
        "from tensorflow.python.keras.optimizers import Adam\n",
        "import tensorflow as tf\n",
        "from keras.optimizers import SGD\n",
        "import numpy\n",
        "import cv2 as cv\n",
        "import os\n",
        "from sklearn.model_selection import train_test_split\n",
        "from keras.utils import np_utils"
      ],
      "execution_count": 0,
      "outputs": []
    },
    {
      "cell_type": "code",
      "metadata": {
        "id": "T1g0Vd3-_ID5",
        "colab_type": "code",
        "colab": {}
      },
      "source": [
        "# Размер мини-выборки\n",
        "batch_size = 32\n",
        "# Количество классов изображений\n",
        "nb_classes = 3\n",
        "# Количество эпох для обучения\n",
        "nb_epoch = 20\n",
        "# Размер изображений\n",
        "img_rows, img_cols = 128, 128\n",
        "# Количество каналов в изображении: RGB\n",
        "img_channels = 3"
      ],
      "execution_count": 0,
      "outputs": []
    },
    {
      "cell_type": "code",
      "metadata": {
        "id": "hrYFHHkB_Iuk",
        "colab_type": "code",
        "colab": {}
      },
      "source": [
        "def processData(way, iterImg):\n",
        "  # инициализирую картинки\n",
        "  img = cv.imread(way + '/' + os.listdir(way)[i]) \n",
        "  # изменяю размер изображения\n",
        "  img = cv.resize(img, (img_rows, img_cols), interpolation=cv.INTER_AREA)\n",
        "  return img\n",
        "\n",
        "# количество изображений в одной папке\n",
        "n = 1600 \n",
        "\n",
        "# инициализация массивов для представления картинок в численном виде\n",
        "arrCans = []\n",
        "arrBottles = []\n",
        "arrPapers = []\n",
        "\n",
        "# добавление массивов пикселов в массив картинок\n",
        "for i in range(n):\n",
        "  arrCans.append(processData(os.path.join(os.getcwd(), 'cans'), i))\n",
        "  arrBottles.append(processData(os.path.join(os.getcwd(), 'bottles'), i))\n",
        "  arrPapers.append(processData(os.path.join(os.getcwd(), 'papers'), i))"
      ],
      "execution_count": 0,
      "outputs": []
    },
    {
      "cell_type": "code",
      "metadata": {
        "id": "jK__MkXg_JVT",
        "colab_type": "code",
        "colab": {}
      },
      "source": [
        "X = [] # набор признаков\n",
        "Y = [] # набор меток\n",
        "\n",
        "# присоединение массивов изображений разных классов\n",
        "X = numpy.array(arrCans + arrBottles + arrPapers)\n",
        "\n",
        "# нехитрое создание индексной зависимости меток от признаков (признаку i-ного элемента соответствует i-ный элемент метки) \n",
        "for i in range(nb_classes * n):\n",
        "\tif i <= 1599:\n",
        "\t\tY.append(0)\n",
        "\tif i > 1599 and i <= 3199:\n",
        "\t\tY.append(1)\n",
        "\tif i > 3199:\n",
        "\t\tY.append(2)\n",
        "# изменение списка в массив numpy\n",
        "Y = numpy.array(Y)"
      ],
      "execution_count": 0,
      "outputs": []
    },
    {
      "cell_type": "code",
      "metadata": {
        "id": "RxG2EFX4_JgG",
        "colab_type": "code",
        "colab": {}
      },
      "source": [
        "# инициализация параметров, тренировочных/тестовых признаков и меток\n",
        "X_train, X_test, Y_train, Y_test = train_test_split(X, Y, test_size = 0.3, random_state = 42, shuffle = True)"
      ],
      "execution_count": 0,
      "outputs": []
    },
    {
      "cell_type": "code",
      "metadata": {
        "id": "ijxRgPJY_KPa",
        "colab_type": "code",
        "colab": {}
      },
      "source": [
        "# Нормализуем данные\n",
        "X_train = X_train.astype('float32')\n",
        "X_test = X_test.astype('float32')\n",
        "X_train /= 255\n",
        "X_test /= 255"
      ],
      "execution_count": 0,
      "outputs": []
    },
    {
      "cell_type": "code",
      "metadata": {
        "id": "BD8cC0y-_Kat",
        "colab_type": "code",
        "colab": {}
      },
      "source": [
        "# Преобразуем метки в категории\n",
        "Y_train = np_utils.to_categorical(Y_train, nb_classes)\n",
        "Y_test = np_utils.to_categorical(Y_test, nb_classes)"
      ],
      "execution_count": 0,
      "outputs": []
    },
    {
      "cell_type": "code",
      "metadata": {
        "id": "peLpeStu_Kko",
        "colab_type": "code",
        "colab": {}
      },
      "source": [
        "# инициализация структуры и весов нейронки vgg16\n",
        "vgg16_net = VGG16(weights='imagenet', include_top=False, input_shape=(img_rows, img_cols, img_channels))"
      ],
      "execution_count": 0,
      "outputs": []
    },
    {
      "cell_type": "code",
      "metadata": {
        "id": "YtaYfKmW_ag1",
        "colab_type": "code",
        "colab": {}
      },
      "source": [
        "# запрещаем слою vgg16 обучаться (он уже обучен)\n",
        "vgg16_net.trainable = False"
      ],
      "execution_count": 0,
      "outputs": []
    },
    {
      "cell_type": "code",
      "metadata": {
        "id": "rFTTJUfZ_a2h",
        "colab_type": "code",
        "colab": {}
      },
      "source": [
        "# вывод структуры vgg16\n",
        "vgg16_net.summary()"
      ],
      "execution_count": 0,
      "outputs": []
    },
    {
      "cell_type": "code",
      "metadata": {
        "id": "smjbedg9_bAq",
        "colab_type": "code",
        "colab": {}
      },
      "source": [
        "# инициализация модели нейросети\n",
        "model = Sequential()\n",
        "model.add(vgg16_net)\n",
        "model.add(Flatten())\n",
        "model.add(Dense(256))\n",
        "model.add(Activation('relu'))\n",
        "model.add(Dropout(0.5))\n",
        "model.add(Dense(nb_classes))\n",
        "model.add(Activation('softmax'))"
      ],
      "execution_count": 0,
      "outputs": []
    },
    {
      "cell_type": "code",
      "metadata": {
        "id": "IVEsyz7r_bKi",
        "colab_type": "code",
        "colab": {}
      },
      "source": [
        "# вывод структуры модели\n",
        "model.summary()"
      ],
      "execution_count": 0,
      "outputs": []
    },
    {
      "cell_type": "code",
      "metadata": {
        "id": "eAiWvdAq_bTY",
        "colab_type": "code",
        "colab": {}
      },
      "source": [
        "# Задаем параметры оптимизации\n",
        "# sgd = SGD(lr=0.001, decay=1e-6, momentum=0.9, nesterov=True)\n",
        "# opt = Adam(lr=0.001)\n",
        "opt = tf.keras.optimizers.Adam(\n",
        "    learning_rate=0.001, beta_1=0.9, beta_2=0.999, epsilon=1e-07, amsgrad=False,\n",
        "    name='Adam'\n",
        ")\n",
        "model.compile(loss='categorical_crossentropy',\n",
        "              optimizer=opt,\n",
        "              metrics=['accuracy'])"
      ],
      "execution_count": 0,
      "outputs": []
    },
    {
      "cell_type": "code",
      "metadata": {
        "id": "XtcaxRnJ_rGO",
        "colab_type": "code",
        "colab": {}
      },
      "source": [
        "# Обучаем модель\n",
        "model.fit(X_train, Y_train,\n",
        "              batch_size=batch_size,\n",
        "              epochs=nb_epoch,\n",
        "              validation_split=0.1,\n",
        "              shuffle=True,\n",
        "              verbose=2)"
      ],
      "execution_count": 0,
      "outputs": []
    },
    {
      "cell_type": "code",
      "metadata": {
        "id": "B7QCgXfL_rY9",
        "colab_type": "code",
        "colab": {}
      },
      "source": [
        "# Оцениваем качество обучения модели на тестовых данных\n",
        "scores = model.evaluate(X_test, Y_test, verbose=0)\n",
        "print(\"Точность работы на тестовых данных: %.2f%%\" % (scores[1]*100))"
      ],
      "execution_count": 0,
      "outputs": []
    },
    {
      "cell_type": "code",
      "metadata": {
        "id": "67OJous9_rkM",
        "colab_type": "code",
        "colab": {}
      },
      "source": [
        "# вывод того, что нейросеть не определила. Вывод размера тестовой выборки. Дальше вероятность классов, реальный вывод (can, bottle, paper) и правильный вывод\n",
        "# %matplotlib inline\n",
        "# import matplotlib.pyplot as plt\n",
        "# predictions = model.predict(X_test)\n",
        "# print(predictions.shape)\n",
        "# iterNum = 0\n",
        "# for i in range(len(predictions)):\n",
        "#   maxPred = predictions[i].max()\n",
        "#   for j in range(len(predictions[i])): \n",
        "#     if maxPred == predictions[i][j]: \n",
        "#       maxIdxPred = j\n",
        "#     if Y_test[i].max() == Y_test[i][j]:\n",
        "#       maxIdxY = j\n",
        "#   if maxIdxPred != maxIdxY:\n",
        "#     print(predictions[i])\n",
        "#     print(numpy.argmax(predictions[i]))\n",
        "#     print(numpy.argmax(Y_test[i]))\n",
        "#     plt.imshow(X_test[i])\n",
        "#     plt.show()\n",
        "#     iterNum += 1\n",
        "# print(iterNum)"
      ],
      "execution_count": 0,
      "outputs": []
    },
    {
      "cell_type": "code",
      "metadata": {
        "id": "84E2qYgqBYPN",
        "colab_type": "code",
        "colab": {}
      },
      "source": [
        "# сохранение модели нейросети\n",
        "model.save('trash_cnn.h5')"
      ],
      "execution_count": 0,
      "outputs": []
    }
  ]
}